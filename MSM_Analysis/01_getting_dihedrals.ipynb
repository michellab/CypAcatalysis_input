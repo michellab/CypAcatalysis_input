{
 "cells": [
  {
   "cell_type": "code",
   "execution_count": 1,
   "metadata": {},
   "outputs": [
    {
     "name": "stdout",
     "output_type": "stream",
     "text": [
      "Populating the interactive namespace from numpy and matplotlib\n"
     ]
    }
   ],
   "source": [
    "%pylab inline"
   ]
  },
  {
   "cell_type": "code",
   "execution_count": 2,
   "metadata": {},
   "outputs": [],
   "source": [
    "import pyemma\n",
    "import pyemma.coordinates as coor\n",
    "import pyemma.msm as msm\n",
    "import pyemma.plots as mplt\n",
    "import seaborn as sbn\n",
    "import glob\n",
    "sbn.set_style(\"white\")\n",
    "sbn.set_style(\"ticks\", {\"xtick.major.size\": 8, \"ytick.major.size\": 8})\n",
    "sbn.set_context(\"paper\", font_scale=2)\n",
    "rc={\"lines.linewidth\": 2}"
   ]
  },
  {
   "cell_type": "markdown",
   "metadata": {},
   "source": [
    "## S99TCS - getting dihedral trajectories"
   ]
  },
  {
   "cell_type": "code",
   "execution_count": 3,
   "metadata": {},
   "outputs": [],
   "source": [
    "traj_list = glob.glob('CSIV_mutation_data/MD200ns/S99TCS/MD*/MD.xtc')"
   ]
  },
  {
   "cell_type": "code",
   "execution_count": 5,
   "metadata": {},
   "outputs": [],
   "source": [
    "top = 'CSIV_mutation_data/MD200ns/S99TCS/MD1/npt2.gro'"
   ]
  },
  {
   "cell_type": "code",
   "execution_count": 6,
   "metadata": {},
   "outputs": [],
   "source": [
    "feat = coor.featurizer(top)"
   ]
  },
  {
   "cell_type": "code",
   "execution_count": 7,
   "metadata": {},
   "outputs": [],
   "source": [
    "\n",
    "feat.add_sidechain_torsions('resid 112',which=['chi1'],cossin=True) #F113\n",
    "feat.add_sidechain_torsions('resid 54', which=['chi1'],cossin=True)  #R55\n",
    "feat.add_sidechain_torsions('resid 60', which=['chi1'],cossin=True)  #M61\n",
    "feat.add_sidechain_torsions('resid 98', which=['chi1'],cossin=True)  #T99\n",
    "feat.add_sidechain_torsions('resid 54', which=['chi3'],cossin=True)  \n",
    "feat.add_sidechain_torsions('resid 60', which=['chi2'],cossin=True)\n",
    "\n",
    "\n",
    "feat.add_sidechain_torsions('resid 114', which=['chi1'],cossin=True) # chi1S115\n",
    "feat.add_sidechain_torsions('resid 96', which=['chi1'],cossin=True)  #chi1I97\n",
    "\n",
    "feat.add_sidechain_torsions('resid 97', which=['chi1'],cossin=True) #chi1 L98\n",
    "feat.add_sidechain_torsions('resid 62', which=['chi1'],cossin=True) #chi1 Q63\n",
    " \n",
    "feat.add_sidechain_torsions('resid 97', which=['chi2'],cossin=True) #chi2 L98\n",
    "feat.add_sidechain_torsions('resid 62', which=['chi2'],cossin=True) #chi2 Q63    \n",
    "    \n"
   ]
  },
  {
   "cell_type": "code",
   "execution_count": 8,
   "metadata": {
    "scrolled": true
   },
   "outputs": [
    {
     "data": {
      "text/plain": [
       "['COS(CHI1 0 PHE 113)',\n",
       " 'SIN(CHI1 0 PHE 113)',\n",
       " 'COS(CHI1 0 ARG 55)',\n",
       " 'SIN(CHI1 0 ARG 55)',\n",
       " 'COS(CHI1 0 MET 61)',\n",
       " 'SIN(CHI1 0 MET 61)',\n",
       " 'COS(CHI1 0 THR 99)',\n",
       " 'SIN(CHI1 0 THR 99)',\n",
       " 'COS(CHI3 0 ARG 55)',\n",
       " 'SIN(CHI3 0 ARG 55)',\n",
       " 'COS(CHI2 0 MET 61)',\n",
       " 'SIN(CHI2 0 MET 61)',\n",
       " 'COS(CHI1 0 SER 115)',\n",
       " 'SIN(CHI1 0 SER 115)',\n",
       " 'COS(CHI1 0 ILE 97)',\n",
       " 'SIN(CHI1 0 ILE 97)',\n",
       " 'COS(CHI1 0 LEU 98)',\n",
       " 'SIN(CHI1 0 LEU 98)',\n",
       " 'COS(CHI1 0 GLN 63)',\n",
       " 'SIN(CHI1 0 GLN 63)',\n",
       " 'COS(CHI2 0 LEU 98)',\n",
       " 'SIN(CHI2 0 LEU 98)',\n",
       " 'COS(CHI2 0 GLN 63)',\n",
       " 'SIN(CHI2 0 GLN 63)']"
      ]
     },
     "execution_count": 8,
     "metadata": {},
     "output_type": "execute_result"
    }
   ],
   "source": [
    "feat.describe()"
   ]
  },
  {
   "cell_type": "code",
   "execution_count": 9,
   "metadata": {},
   "outputs": [
    {
     "data": {
      "application/vnd.jupyter.widget-view+json": {
       "model_id": "aeed13560a814684bcff5889548d9cd9",
       "version_major": 2,
       "version_minor": 0
      },
      "text/html": [
       "<p>Failed to display Jupyter Widget of type <code>HBox</code>.</p>\n",
       "<p>\n",
       "  If you're reading this message in the Jupyter Notebook or JupyterLab Notebook, it may mean\n",
       "  that the widgets JavaScript is still loading. If this message persists, it\n",
       "  likely means that the widgets JavaScript library is either not installed or\n",
       "  not enabled. See the <a href=\"https://ipywidgets.readthedocs.io/en/stable/user_install.html\">Jupyter\n",
       "  Widgets Documentation</a> for setup instructions.\n",
       "</p>\n",
       "<p>\n",
       "  If you're reading this message in another frontend (for example, a static\n",
       "  rendering on GitHub or <a href=\"https://nbviewer.jupyter.org/\">NBViewer</a>),\n",
       "  it may mean that your frontend doesn't currently support widgets.\n",
       "</p>\n"
      ],
      "text/plain": [
       "HBox(children=(HBox(children=(Label(value=u'Obtaining file info'),), layout=Layout(max_width=u'35%', min_width=u'35%')), HBox(children=(IntProgress(value=0, max=10), HTML(value=u'')), layout=Layout(padding=u'0 0 0 20px'))), layout=Layout(display=u'flex', width=u'100%'))"
      ]
     },
     "metadata": {},
     "output_type": "display_data"
    },
    {
     "name": "stdout",
     "output_type": "stream",
     "text": [
      "\r"
     ]
    },
    {
     "data": {
      "application/vnd.jupyter.widget-view+json": {
       "model_id": "d235d0eff0ba457197a25d010514f33f",
       "version_major": 2,
       "version_minor": 0
      },
      "text/html": [
       "<p>Failed to display Jupyter Widget of type <code>HBox</code>.</p>\n",
       "<p>\n",
       "  If you're reading this message in the Jupyter Notebook or JupyterLab Notebook, it may mean\n",
       "  that the widgets JavaScript is still loading. If this message persists, it\n",
       "  likely means that the widgets JavaScript library is either not installed or\n",
       "  not enabled. See the <a href=\"https://ipywidgets.readthedocs.io/en/stable/user_install.html\">Jupyter\n",
       "  Widgets Documentation</a> for setup instructions.\n",
       "</p>\n",
       "<p>\n",
       "  If you're reading this message in another frontend (for example, a static\n",
       "  rendering on GitHub or <a href=\"https://nbviewer.jupyter.org/\">NBViewer</a>),\n",
       "  it may mean that your frontend doesn't currently support widgets.\n",
       "</p>\n"
      ],
      "text/plain": [
       "HBox(children=(HBox(children=(Label(value=u'getting output of FeatureReader'),), layout=Layout(max_width=u'35%', min_width=u'35%')), HBox(children=(IntProgress(value=0, max=10), HTML(value=u'')), layout=Layout(padding=u'0 0 0 20px'))), layout=Layout(display=u'flex', width=u'100%'))"
      ]
     },
     "metadata": {},
     "output_type": "display_data"
    },
    {
     "name": "stdout",
     "output_type": "stream",
     "text": [
      "\r"
     ]
    }
   ],
   "source": [
    "inp = coor.source(traj_list, feat)\n",
    "data = inp.get_output()"
   ]
  },
  {
   "cell_type": "code",
   "execution_count": 11,
   "metadata": {},
   "outputs": [],
   "source": [
    "## save the trajectories\n",
    "for i in range(len(data)):\n",
    "    np.savetxt('dihedral_trajectories_mut_CSIV/dihedral_S99TCS_sin_cos_traj'+str(i)+'.dat', data[i])\n"
   ]
  },
  {
   "cell_type": "markdown",
   "metadata": {},
   "source": [
    "### Straight up dihedral trajectories"
   ]
  },
  {
   "cell_type": "code",
   "execution_count": 13,
   "metadata": {},
   "outputs": [],
   "source": [
    "feat_no_sin_cos = coor.featurizer(top)"
   ]
  },
  {
   "cell_type": "code",
   "execution_count": 14,
   "metadata": {},
   "outputs": [],
   "source": [
    "feat_no_sin_cos.add_sidechain_torsions('resid 112',which=['chi1'],cossin=False)\n",
    "feat_no_sin_cos.add_sidechain_torsions('resid 54', which=['chi1'],cossin=False)\n",
    "feat_no_sin_cos.add_sidechain_torsions('resid 60', which=['chi1'],cossin=False)\n",
    "feat_no_sin_cos.add_sidechain_torsions('resid 98', which=['chi1'],cossin=False)\n",
    "feat_no_sin_cos.add_sidechain_torsions('resid 54', which=['chi3'],cossin=False)\n",
    "feat_no_sin_cos.add_sidechain_torsions('resid 60', which=['chi2'],cossin=False)\n",
    "\n",
    "feat_no_sin_cos.add_sidechain_torsions('resid 114', which=['chi1'],cossin=False)\n",
    "feat_no_sin_cos.add_sidechain_torsions('resid 96', which=['chi1'],cossin=False)\n",
    "\n",
    "\n",
    "feat_no_sin_cos.add_sidechain_torsions('resid 97', which=['chi1'],cossin=False) #chi1 L98\n",
    "feat_no_sin_cos.add_sidechain_torsions('resid 62', which=['chi1'],cossin=False) #chi1 Q63\n",
    " \n",
    "feat_no_sin_cos.add_sidechain_torsions('resid 97', which=['chi2'],cossin=False) #chi2 L98\n",
    "feat_no_sin_cos.add_sidechain_torsions('resid 62', which=['chi2'],cossin=False) #chi2 Q63    \n",
    "\n",
    "\n"
   ]
  },
  {
   "cell_type": "code",
   "execution_count": null,
   "metadata": {},
   "outputs": [
    {
     "data": {
      "text/plain": [
       "['CHI1 0 PHE 113',\n",
       " 'CHI1 0 ARG 55',\n",
       " 'CHI1 0 MET 61',\n",
       " 'CHI1 0 THR 99',\n",
       " 'CHI3 0 ARG 55',\n",
       " 'CHI2 0 MET 61',\n",
       " 'CHI1 0 SER 115',\n",
       " 'CHI1 0 ILE 97',\n",
       " 'CHI1 0 LEU 98',\n",
       " 'CHI1 0 GLN 63',\n",
       " 'CHI2 0 LEU 98',\n",
       " 'CHI2 0 GLN 63']"
      ]
     },
     "execution_count": 15,
     "metadata": {},
     "output_type": "execute_result"
    }
   ],
   "source": [
    "feat_no_sin_cos.describe()"
   ]
  },
  {
   "cell_type": "code",
   "execution_count": null,
   "metadata": {},
   "outputs": [
    {
     "data": {
      "application/vnd.jupyter.widget-view+json": {
       "model_id": "62453a0433f940b2a9207ea56a7a830b",
       "version_major": 2,
       "version_minor": 0
      },
      "text/html": [
       "<p>Failed to display Jupyter Widget of type <code>HBox</code>.</p>\n",
       "<p>\n",
       "  If you're reading this message in the Jupyter Notebook or JupyterLab Notebook, it may mean\n",
       "  that the widgets JavaScript is still loading. If this message persists, it\n",
       "  likely means that the widgets JavaScript library is either not installed or\n",
       "  not enabled. See the <a href=\"https://ipywidgets.readthedocs.io/en/stable/user_install.html\">Jupyter\n",
       "  Widgets Documentation</a> for setup instructions.\n",
       "</p>\n",
       "<p>\n",
       "  If you're reading this message in another frontend (for example, a static\n",
       "  rendering on GitHub or <a href=\"https://nbviewer.jupyter.org/\">NBViewer</a>),\n",
       "  it may mean that your frontend doesn't currently support widgets.\n",
       "</p>\n"
      ],
      "text/plain": [
       "HBox(children=(HBox(children=(Label(value=u'Obtaining file info'),), layout=Layout(max_width=u'35%', min_width=u'35%')), HBox(children=(IntProgress(value=0, max=10), HTML(value=u'')), layout=Layout(padding=u'0 0 0 20px'))), layout=Layout(display=u'flex', width=u'100%'))"
      ]
     },
     "metadata": {},
     "output_type": "display_data"
    },
    {
     "name": "stdout",
     "output_type": "stream",
     "text": [
      "\r"
     ]
    },
    {
     "data": {
      "application/vnd.jupyter.widget-view+json": {
       "model_id": "9ce6b3040ede4c84816ceef83049c57c",
       "version_major": 2,
       "version_minor": 0
      },
      "text/html": [
       "<p>Failed to display Jupyter Widget of type <code>HBox</code>.</p>\n",
       "<p>\n",
       "  If you're reading this message in the Jupyter Notebook or JupyterLab Notebook, it may mean\n",
       "  that the widgets JavaScript is still loading. If this message persists, it\n",
       "  likely means that the widgets JavaScript library is either not installed or\n",
       "  not enabled. See the <a href=\"https://ipywidgets.readthedocs.io/en/stable/user_install.html\">Jupyter\n",
       "  Widgets Documentation</a> for setup instructions.\n",
       "</p>\n",
       "<p>\n",
       "  If you're reading this message in another frontend (for example, a static\n",
       "  rendering on GitHub or <a href=\"https://nbviewer.jupyter.org/\">NBViewer</a>),\n",
       "  it may mean that your frontend doesn't currently support widgets.\n",
       "</p>\n"
      ],
      "text/plain": [
       "HBox(children=(HBox(children=(Label(value=u'getting output of FeatureReader'),), layout=Layout(max_width=u'35%', min_width=u'35%')), HBox(children=(IntProgress(value=0, max=10), HTML(value=u'')), layout=Layout(padding=u'0 0 0 20px'))), layout=Layout(display=u'flex', width=u'100%'))"
      ]
     },
     "metadata": {},
     "output_type": "display_data"
    }
   ],
   "source": [
    "inp_no_sin_cos = coor.source(traj_list, feat_no_sin_cos)\n",
    "data_no_sin_cos = inp_no_sin_cos.get_output()"
   ]
  },
  {
   "cell_type": "code",
   "execution_count": null,
   "metadata": {},
   "outputs": [],
   "source": [
    "## save the trajectories\n",
    "for i in range(len(data_no_sin_cos)):\n",
    "    np.savetxt('dihedral_trajectories_mut_CSIV/dihedral_S99TCS_traj'+str(i)+'.dat', data_no_sin_cos[i])"
   ]
  },
  {
   "cell_type": "code",
   "execution_count": null,
   "metadata": {},
   "outputs": [],
   "source": []
  }
 ],
 "metadata": {
  "kernelspec": {
   "display_name": "Python 3",
   "language": "python",
   "name": "python3"
  },
  "language_info": {
   "codemirror_mode": {
    "name": "ipython",
    "version": 3
   },
   "file_extension": ".py",
   "mimetype": "text/x-python",
   "name": "python",
   "nbconvert_exporter": "python",
   "pygments_lexer": "ipython3",
   "version": "3.6.4"
  }
 },
 "nbformat": 4,
 "nbformat_minor": 2
}
