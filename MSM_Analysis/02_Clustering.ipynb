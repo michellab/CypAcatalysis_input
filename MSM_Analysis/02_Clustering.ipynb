{
 "cells": [
  {
   "cell_type": "markdown",
   "metadata": {},
   "source": [
    "## Clustering using TICA and simple dihedral space"
   ]
  },
  {
   "cell_type": "code",
   "execution_count": 1,
   "metadata": {},
   "outputs": [
    {
     "name": "stdout",
     "output_type": "stream",
     "text": [
      "Populating the interactive namespace from numpy and matplotlib\n"
     ]
    },
    {
     "name": "stderr",
     "output_type": "stream",
     "text": [
      "/home/pattama/Software/install/anaconda/lib/python2.7/site-packages/pyemma/__init__.py:130: UserWarning: You are not using the latest release of PyEMMA. Latest is 2.5.2, you have 2.5.1.\n",
      "  .format(latest=latest, current=current), category=UserWarning)\n",
      "/home/pattama/Software/install/anaconda/lib/python2.7/site-packages/pyemma/__init__.py:134: UserWarning: Python 2.7 usage is deprecated. Future versions of PyEMMA will not support it. Please upgrade your Python installation.\n",
      "  \"Please upgrade your Python installation.\", category=UserWarning)\n"
     ]
    }
   ],
   "source": [
    "#imports\n",
    "%pylab inline\n",
    "import pyemma\n",
    "import pyemma.coordinates as coor\n",
    "import pyemma.msm as msm\n",
    "import pyemma.plots as mplt\n",
    "import seaborn as sbn\n",
    "import glob\n",
    "import itertools\n",
    "import os\n",
    "sbn.set_style(\"white\")\n",
    "sbn.set_style(\"ticks\", {\"xtick.major.size\": 8, \"ytick.major.size\": 8})\n",
    "sbn.set_context(\"paper\", font_scale=2)\n",
    "rc={\"lines.linewidth\": 2}"
   ]
  },
  {
   "cell_type": "markdown",
   "metadata": {},
   "source": [
    "## Loading dihedral trajectories with sin and cos "
   ]
  },
  {
   "cell_type": "code",
   "execution_count": 5,
   "metadata": {},
   "outputs": [],
   "source": [
    "data_S99TCS = []\n",
    "for i in range(10):\n",
    "    data_S99TCS.append(np.loadtxt('dihedral_trajectories_Xray_CSIV/dihedral_S99TCS_sin_cos_traj'+str(i)+'.dat'))\n",
    "#add S99TCS mutation traj\n",
    "for i in range(10):\n",
    "    data_S99TCS.append(np.loadtxt('dihedral_trajectories_mut_CSIV/dihedral_S99TCS_sin_cos_traj'+str(i)+'.dat'))"
   ]
  },
  {
   "cell_type": "code",
   "execution_count": 6,
   "metadata": {},
   "outputs": [],
   "source": [
    "data_S99TCSIV = []\n",
    "for i in range(10):\n",
    "    data_S99TCSIV.append(np.loadtxt('dihedral_trajectories_Xray_CSIV/dihedral_S99TCSIV_sin_cos_true_traj'+str(i)+'.dat'))\n",
    "#add S99TCSIV mutation traj\n",
    "for i in range(10):\n",
    "    data_S99TCSIV.append(np.loadtxt('dihedral_trajectories_mut_CSIV/dihedral_S99TCSIV_sin_cos_true_traj'+str(i)+'.dat'))"
   ]
  },
  {
   "cell_type": "code",
   "execution_count": 7,
   "metadata": {},
   "outputs": [],
   "source": [
    "data_WT = []\n",
    "for i in range(10):\n",
    "    data_WT.append(np.loadtxt('dihedral_trajectories_WT_S99T/dihedral_WT_sin_cos_true_traj'+str(i)+'.dat'))\n",
    "for i in range(10):\n",
    "    data_WT.append(np.loadtxt('dihedral_trajectories_WT_S99T_set2/dihedral_WT_sin_cos_true_traj'+str(i)+'.dat'))"
   ]
  },
  {
   "cell_type": "code",
   "execution_count": 8,
   "metadata": {},
   "outputs": [],
   "source": [
    "data_S99T = []\n",
    "for i in range(10):\n",
    "    data_S99T.append(np.loadtxt('dihedral_trajectories_WT_S99T/dihedral_S99T_sin_cos_true_traj'+str(i)+'.dat'))\n",
    "for i in range(10):\n",
    "    data_S99T.append(np.loadtxt('dihedral_trajectories_WT_S99T_set2/dihedral_S99T_sin_cos_true_traj'+str(i)+'.dat'))"
   ]
  },
  {
   "cell_type": "code",
   "execution_count": 9,
   "metadata": {},
   "outputs": [],
   "source": [
    "data = data_S99T\n",
    "for i in range(len(data_WT)):\n",
    "    data.append(data_WT[i])\n",
    "\n",
    "for i in range(len(data_S99TCS)):\n",
    "    data.append(data_S99TCS[i])\n",
    "    \n",
    "for i in range(len(data_S99TCSIV)):\n",
    "    data.append(data_S99TCSIV[i])"
   ]
  },
  {
   "cell_type": "markdown",
   "metadata": {},
   "source": [
    "## TICA"
   ]
  },
  {
   "cell_type": "markdown",
   "metadata": {},
   "source": [
    "#### TICA and clustering using TICA output"
   ]
  },
  {
   "cell_type": "markdown",
   "metadata": {},
   "source": [
    "#TICA cluster 50"
   ]
  },
  {
   "cell_type": "code",
   "execution_count": 10,
   "metadata": {},
   "outputs": [
    {
     "data": {
      "application/vnd.jupyter.widget-view+json": {
       "model_id": "a0d210e4c8ff4b40ab58f75996a28e28",
       "version_major": 2,
       "version_minor": 0
      },
      "text/html": [
       "<p>Failed to display Jupyter Widget of type <code>HBox</code>.</p>\n",
       "<p>\n",
       "  If you're reading this message in the Jupyter Notebook or JupyterLab Notebook, it may mean\n",
       "  that the widgets JavaScript is still loading. If this message persists, it\n",
       "  likely means that the widgets JavaScript library is either not installed or\n",
       "  not enabled. See the <a href=\"https://ipywidgets.readthedocs.io/en/stable/user_install.html\">Jupyter\n",
       "  Widgets Documentation</a> for setup instructions.\n",
       "</p>\n",
       "<p>\n",
       "  If you're reading this message in another frontend (for example, a static\n",
       "  rendering on GitHub or <a href=\"https://nbviewer.jupyter.org/\">NBViewer</a>),\n",
       "  it may mean that your frontend doesn't currently support widgets.\n",
       "</p>\n"
      ],
      "text/plain": [
       "HBox(children=(HBox(children=(Label(value=u'calculate covariances'),), layout=Layout(max_width=u'35%', min_width=u'35%')), HBox(children=(IntProgress(value=0, max=80), HTML(value=u'')), layout=Layout(padding=u'0 0 0 20px'))), layout=Layout(display=u'flex', width=u'100%'))"
      ]
     },
     "metadata": {},
     "output_type": "display_data"
    },
    {
     "name": "stdout",
     "output_type": "stream",
     "text": [
      "\r",
      "('TICA dimension ', 14)\n"
     ]
    }
   ],
   "source": [
    "tica_obj = coor.tica(data, lag=20, var_cutoff=0.9, kinetic_map=True)\n",
    "print('TICA dimension ', tica_obj.dimension())"
   ]
  },
  {
   "cell_type": "code",
   "execution_count": 11,
   "metadata": {},
   "outputs": [
    {
     "data": {
      "application/vnd.jupyter.widget-view+json": {
       "model_id": "20ab6cd4f0de4f4abd7639f810b24ca3",
       "version_major": 2,
       "version_minor": 0
      },
      "text/html": [
       "<p>Failed to display Jupyter Widget of type <code>HBox</code>.</p>\n",
       "<p>\n",
       "  If you're reading this message in the Jupyter Notebook or JupyterLab Notebook, it may mean\n",
       "  that the widgets JavaScript is still loading. If this message persists, it\n",
       "  likely means that the widgets JavaScript library is either not installed or\n",
       "  not enabled. See the <a href=\"https://ipywidgets.readthedocs.io/en/stable/user_install.html\">Jupyter\n",
       "  Widgets Documentation</a> for setup instructions.\n",
       "</p>\n",
       "<p>\n",
       "  If you're reading this message in another frontend (for example, a static\n",
       "  rendering on GitHub or <a href=\"https://nbviewer.jupyter.org/\">NBViewer</a>),\n",
       "  it may mean that your frontend doesn't currently support widgets.\n",
       "</p>\n"
      ],
      "text/plain": [
       "HBox(children=(HBox(children=(Label(value=u'getting output of TICA'),), layout=Layout(max_width=u'35%', min_width=u'35%')), HBox(children=(IntProgress(value=0, max=80), HTML(value=u'')), layout=Layout(padding=u'0 0 0 20px'))), layout=Layout(display=u'flex', width=u'100%'))"
      ]
     },
     "metadata": {},
     "output_type": "display_data"
    },
    {
     "name": "stdout",
     "output_type": "stream",
     "text": [
      "\r"
     ]
    }
   ],
   "source": [
    "Y = tica_obj.get_output()"
   ]
  },
  {
   "cell_type": "markdown",
   "metadata": {},
   "source": [
    "## TICA cluster for S99T"
   ]
  },
  {
   "cell_type": "code",
   "execution_count": 17,
   "metadata": {},
   "outputs": [
    {
     "data": {
      "application/vnd.jupyter.widget-view+json": {
       "model_id": "102da6d1b0ee4729968c9c927085fbe0",
       "version_major": 2,
       "version_minor": 0
      },
      "text/html": [
       "<p>Failed to display Jupyter Widget of type <code>HBox</code>.</p>\n",
       "<p>\n",
       "  If you're reading this message in the Jupyter Notebook or JupyterLab Notebook, it may mean\n",
       "  that the widgets JavaScript is still loading. If this message persists, it\n",
       "  likely means that the widgets JavaScript library is either not installed or\n",
       "  not enabled. See the <a href=\"https://ipywidgets.readthedocs.io/en/stable/user_install.html\">Jupyter\n",
       "  Widgets Documentation</a> for setup instructions.\n",
       "</p>\n",
       "<p>\n",
       "  If you're reading this message in another frontend (for example, a static\n",
       "  rendering on GitHub or <a href=\"https://nbviewer.jupyter.org/\">NBViewer</a>),\n",
       "  it may mean that your frontend doesn't currently support widgets.\n",
       "</p>\n"
      ],
      "text/plain": [
       "HBox(children=(HBox(children=(Label(value=u'initialize kmeans++ centers'),), layout=Layout(max_width=u'35%', min_width=u'35%')), HBox(children=(IntProgress(value=0, max=50), HTML(value=u'')), layout=Layout(padding=u'0 0 0 20px'))), layout=Layout(display=u'flex', width=u'100%'))"
      ]
     },
     "metadata": {},
     "output_type": "display_data"
    },
    {
     "data": {
      "application/vnd.jupyter.widget-view+json": {
       "model_id": "35a161c3033b4a10a449e6cc72c33372",
       "version_major": 2,
       "version_minor": 0
      },
      "text/html": [
       "<p>Failed to display Jupyter Widget of type <code>HBox</code>.</p>\n",
       "<p>\n",
       "  If you're reading this message in the Jupyter Notebook or JupyterLab Notebook, it may mean\n",
       "  that the widgets JavaScript is still loading. If this message persists, it\n",
       "  likely means that the widgets JavaScript library is either not installed or\n",
       "  not enabled. See the <a href=\"https://ipywidgets.readthedocs.io/en/stable/user_install.html\">Jupyter\n",
       "  Widgets Documentation</a> for setup instructions.\n",
       "</p>\n",
       "<p>\n",
       "  If you're reading this message in another frontend (for example, a static\n",
       "  rendering on GitHub or <a href=\"https://nbviewer.jupyter.org/\">NBViewer</a>),\n",
       "  it may mean that your frontend doesn't currently support widgets.\n",
       "</p>\n"
      ],
      "text/plain": [
       "HBox(children=(HBox(children=(Label(value=u'kmeans iterations'),), layout=Layout(max_width=u'35%', min_width=u'35%')), HBox(children=(IntProgress(value=0, max=50), HTML(value=u'')), layout=Layout(padding=u'0 0 0 20px'))), layout=Layout(display=u'flex', width=u'100%'))"
      ]
     },
     "metadata": {},
     "output_type": "display_data"
    },
    {
     "name": "stdout",
     "output_type": "stream",
     "text": [
      "04-06-18 14:27:46 pyemma.coordinates.clustering.kmeans.KmeansClustering[3] INFO     Cluster centers converged after 3 steps.\n",
      "\r"
     ]
    },
    {
     "data": {
      "application/vnd.jupyter.widget-view+json": {
       "model_id": "fe12e4eac36749f5b47aa3424f5e0ebb",
       "version_major": 2,
       "version_minor": 0
      },
      "text/html": [
       "<p>Failed to display Jupyter Widget of type <code>HBox</code>.</p>\n",
       "<p>\n",
       "  If you're reading this message in the Jupyter Notebook or JupyterLab Notebook, it may mean\n",
       "  that the widgets JavaScript is still loading. If this message persists, it\n",
       "  likely means that the widgets JavaScript library is either not installed or\n",
       "  not enabled. See the <a href=\"https://ipywidgets.readthedocs.io/en/stable/user_install.html\">Jupyter\n",
       "  Widgets Documentation</a> for setup instructions.\n",
       "</p>\n",
       "<p>\n",
       "  If you're reading this message in another frontend (for example, a static\n",
       "  rendering on GitHub or <a href=\"https://nbviewer.jupyter.org/\">NBViewer</a>),\n",
       "  it may mean that your frontend doesn't currently support widgets.\n",
       "</p>\n"
      ],
      "text/plain": [
       "HBox(children=(HBox(children=(Label(value=u'getting output of KmeansClustering'),), layout=Layout(max_width=u'35%', min_width=u'35%')), HBox(children=(IntProgress(value=0, max=20), HTML(value=u'')), layout=Layout(padding=u'0 0 0 20px'))), layout=Layout(display=u'flex', width=u'100%'))"
      ]
     },
     "metadata": {},
     "output_type": "display_data"
    },
    {
     "name": "stdout",
     "output_type": "stream",
     "text": [
      "\r"
     ]
    },
    {
     "data": {
      "application/vnd.jupyter.widget-view+json": {
       "model_id": "7204fd1c7afb4b77af3631da1e3969ef",
       "version_major": 2,
       "version_minor": 0
      },
      "text/html": [
       "<p>Failed to display Jupyter Widget of type <code>HBox</code>.</p>\n",
       "<p>\n",
       "  If you're reading this message in the Jupyter Notebook or JupyterLab Notebook, it may mean\n",
       "  that the widgets JavaScript is still loading. If this message persists, it\n",
       "  likely means that the widgets JavaScript library is either not installed or\n",
       "  not enabled. See the <a href=\"https://ipywidgets.readthedocs.io/en/stable/user_install.html\">Jupyter\n",
       "  Widgets Documentation</a> for setup instructions.\n",
       "</p>\n",
       "<p>\n",
       "  If you're reading this message in another frontend (for example, a static\n",
       "  rendering on GitHub or <a href=\"https://nbviewer.jupyter.org/\">NBViewer</a>),\n",
       "  it may mean that your frontend doesn't currently support widgets.\n",
       "</p>\n"
      ],
      "text/plain": [
       "HBox(children=(HBox(children=(Label(value=u'initialize kmeans++ centers'),), layout=Layout(max_width=u'35%', min_width=u'35%')), HBox(children=(IntProgress(value=0), HTML(value=u'')), layout=Layout(padding=u'0 0 0 20px'))), layout=Layout(display=u'flex', width=u'100%'))"
      ]
     },
     "metadata": {},
     "output_type": "display_data"
    },
    {
     "data": {
      "application/vnd.jupyter.widget-view+json": {
       "model_id": "71b43307a1394398b97e0b7f7a166086",
       "version_major": 2,
       "version_minor": 0
      },
      "text/html": [
       "<p>Failed to display Jupyter Widget of type <code>HBox</code>.</p>\n",
       "<p>\n",
       "  If you're reading this message in the Jupyter Notebook or JupyterLab Notebook, it may mean\n",
       "  that the widgets JavaScript is still loading. If this message persists, it\n",
       "  likely means that the widgets JavaScript library is either not installed or\n",
       "  not enabled. See the <a href=\"https://ipywidgets.readthedocs.io/en/stable/user_install.html\">Jupyter\n",
       "  Widgets Documentation</a> for setup instructions.\n",
       "</p>\n",
       "<p>\n",
       "  If you're reading this message in another frontend (for example, a static\n",
       "  rendering on GitHub or <a href=\"https://nbviewer.jupyter.org/\">NBViewer</a>),\n",
       "  it may mean that your frontend doesn't currently support widgets.\n",
       "</p>\n"
      ],
      "text/plain": [
       "HBox(children=(HBox(children=(Label(value=u'kmeans iterations'),), layout=Layout(max_width=u'35%', min_width=u'35%')), HBox(children=(IntProgress(value=0, max=50), HTML(value=u'')), layout=Layout(padding=u'0 0 0 20px'))), layout=Layout(display=u'flex', width=u'100%'))"
      ]
     },
     "metadata": {},
     "output_type": "display_data"
    },
    {
     "name": "stdout",
     "output_type": "stream",
     "text": [
      "04-06-18 14:32:15 pyemma.coordinates.clustering.kmeans.KmeansClustering[5] INFO     Cluster centers converged after 13 steps.\n",
      "\r"
     ]
    },
    {
     "data": {
      "application/vnd.jupyter.widget-view+json": {
       "model_id": "0c51a7b9438a40d4ac597fe83fd7be52",
       "version_major": 2,
       "version_minor": 0
      },
      "text/html": [
       "<p>Failed to display Jupyter Widget of type <code>HBox</code>.</p>\n",
       "<p>\n",
       "  If you're reading this message in the Jupyter Notebook or JupyterLab Notebook, it may mean\n",
       "  that the widgets JavaScript is still loading. If this message persists, it\n",
       "  likely means that the widgets JavaScript library is either not installed or\n",
       "  not enabled. See the <a href=\"https://ipywidgets.readthedocs.io/en/stable/user_install.html\">Jupyter\n",
       "  Widgets Documentation</a> for setup instructions.\n",
       "</p>\n",
       "<p>\n",
       "  If you're reading this message in another frontend (for example, a static\n",
       "  rendering on GitHub or <a href=\"https://nbviewer.jupyter.org/\">NBViewer</a>),\n",
       "  it may mean that your frontend doesn't currently support widgets.\n",
       "</p>\n"
      ],
      "text/plain": [
       "HBox(children=(HBox(children=(Label(value=u'getting output of KmeansClustering'),), layout=Layout(max_width=u'35%', min_width=u'35%')), HBox(children=(IntProgress(value=0, max=20), HTML(value=u'')), layout=Layout(padding=u'0 0 0 20px'))), layout=Layout(display=u'flex', width=u'100%'))"
      ]
     },
     "metadata": {},
     "output_type": "display_data"
    },
    {
     "name": "stdout",
     "output_type": "stream",
     "text": [
      "\r"
     ]
    },
    {
     "data": {
      "application/vnd.jupyter.widget-view+json": {
       "model_id": "45195676797144868cd53fa6c1f69ed5",
       "version_major": 2,
       "version_minor": 0
      },
      "text/html": [
       "<p>Failed to display Jupyter Widget of type <code>HBox</code>.</p>\n",
       "<p>\n",
       "  If you're reading this message in the Jupyter Notebook or JupyterLab Notebook, it may mean\n",
       "  that the widgets JavaScript is still loading. If this message persists, it\n",
       "  likely means that the widgets JavaScript library is either not installed or\n",
       "  not enabled. See the <a href=\"https://ipywidgets.readthedocs.io/en/stable/user_install.html\">Jupyter\n",
       "  Widgets Documentation</a> for setup instructions.\n",
       "</p>\n",
       "<p>\n",
       "  If you're reading this message in another frontend (for example, a static\n",
       "  rendering on GitHub or <a href=\"https://nbviewer.jupyter.org/\">NBViewer</a>),\n",
       "  it may mean that your frontend doesn't currently support widgets.\n",
       "</p>\n"
      ],
      "text/plain": [
       "HBox(children=(HBox(children=(Label(value=u'initialize kmeans++ centers'),), layout=Layout(max_width=u'35%', min_width=u'35%')), HBox(children=(IntProgress(value=0, max=200), HTML(value=u'')), layout=Layout(padding=u'0 0 0 20px'))), layout=Layout(display=u'flex', width=u'100%'))"
      ]
     },
     "metadata": {},
     "output_type": "display_data"
    },
    {
     "data": {
      "application/vnd.jupyter.widget-view+json": {
       "model_id": "a2c8575401744ce0be0711eb60eb938b",
       "version_major": 2,
       "version_minor": 0
      },
      "text/html": [
       "<p>Failed to display Jupyter Widget of type <code>HBox</code>.</p>\n",
       "<p>\n",
       "  If you're reading this message in the Jupyter Notebook or JupyterLab Notebook, it may mean\n",
       "  that the widgets JavaScript is still loading. If this message persists, it\n",
       "  likely means that the widgets JavaScript library is either not installed or\n",
       "  not enabled. See the <a href=\"https://ipywidgets.readthedocs.io/en/stable/user_install.html\">Jupyter\n",
       "  Widgets Documentation</a> for setup instructions.\n",
       "</p>\n",
       "<p>\n",
       "  If you're reading this message in another frontend (for example, a static\n",
       "  rendering on GitHub or <a href=\"https://nbviewer.jupyter.org/\">NBViewer</a>),\n",
       "  it may mean that your frontend doesn't currently support widgets.\n",
       "</p>\n"
      ],
      "text/plain": [
       "HBox(children=(HBox(children=(Label(value=u'kmeans iterations'),), layout=Layout(max_width=u'35%', min_width=u'35%')), HBox(children=(IntProgress(value=0, max=50), HTML(value=u'')), layout=Layout(padding=u'0 0 0 20px'))), layout=Layout(display=u'flex', width=u'100%'))"
      ]
     },
     "metadata": {},
     "output_type": "display_data"
    },
    {
     "name": "stdout",
     "output_type": "stream",
     "text": [
      "04-06-18 14:42:44 pyemma.coordinates.clustering.kmeans.KmeansClustering[7] INFO     Cluster centers converged after 23 steps.\n",
      "\r"
     ]
    },
    {
     "data": {
      "application/vnd.jupyter.widget-view+json": {
       "model_id": "a3ee839c267347068f3a4b7e52aa8b46",
       "version_major": 2,
       "version_minor": 0
      },
      "text/html": [
       "<p>Failed to display Jupyter Widget of type <code>HBox</code>.</p>\n",
       "<p>\n",
       "  If you're reading this message in the Jupyter Notebook or JupyterLab Notebook, it may mean\n",
       "  that the widgets JavaScript is still loading. If this message persists, it\n",
       "  likely means that the widgets JavaScript library is either not installed or\n",
       "  not enabled. See the <a href=\"https://ipywidgets.readthedocs.io/en/stable/user_install.html\">Jupyter\n",
       "  Widgets Documentation</a> for setup instructions.\n",
       "</p>\n",
       "<p>\n",
       "  If you're reading this message in another frontend (for example, a static\n",
       "  rendering on GitHub or <a href=\"https://nbviewer.jupyter.org/\">NBViewer</a>),\n",
       "  it may mean that your frontend doesn't currently support widgets.\n",
       "</p>\n"
      ],
      "text/plain": [
       "HBox(children=(HBox(children=(Label(value=u'getting output of KmeansClustering'),), layout=Layout(max_width=u'35%', min_width=u'35%')), HBox(children=(IntProgress(value=0, max=20), HTML(value=u'')), layout=Layout(padding=u'0 0 0 20px'))), layout=Layout(display=u'flex', width=u'100%'))"
      ]
     },
     "metadata": {},
     "output_type": "display_data"
    },
    {
     "name": "stdout",
     "output_type": "stream",
     "text": [
      "\r"
     ]
    }
   ],
   "source": [
    "dtrajs_TICA_s99t=[]\n",
    "cluster_center_s99t=[]\n",
    "for i in [50,100,200]:\n",
    "    cl = coor.cluster_kmeans(Y[0:20],k=i,max_iter=50)\n",
    "    \n",
    "    # for later use we save the discrete trajectories and cluster center coordinates:\n",
    "    dtrajs = cl.dtrajs\n",
    "    dtrajs_TICA_s99t.append(dtrajs)\n",
    "    cluster_center_s99t.append(cl.clustercenters)"
   ]
  },
  {
   "cell_type": "code",
   "execution_count": 20,
   "metadata": {},
   "outputs": [],
   "source": [
    "for i in range(3):\n",
    "    dtrajs_dat = dtrajs_TICA_s99t[i]\n",
    "    \n",
    "\n",
    "\n",
    "  \n",
    "    for j in range(len(dtrajs_dat)):\n",
    "        np.savetxt('S99T_cluster/TICA_'+str(i)+'/disctraj_S99T_'+str(j)+'.dat', dtrajs_dat[j])\n",
    "    \n",
    "            \n",
    "        #saving cluster centres\n",
    "    np.savetxt('S99T_cluster/TICA_'+str(i)+'/cluster_centre.dat', cluster_center_s99t[i])\n"
   ]
  },
  {
   "cell_type": "markdown",
   "metadata": {},
   "source": [
    "## TICA cluster"
   ]
  },
  {
   "cell_type": "code",
   "execution_count": 27,
   "metadata": {},
   "outputs": [
    {
     "data": {
      "application/vnd.jupyter.widget-view+json": {
       "model_id": "1cefb877119b4be0819d2c4d171a0d2a",
       "version_major": 2,
       "version_minor": 0
      },
      "text/html": [
       "<p>Failed to display Jupyter Widget of type <code>HBox</code>.</p>\n",
       "<p>\n",
       "  If you're reading this message in the Jupyter Notebook or JupyterLab Notebook, it may mean\n",
       "  that the widgets JavaScript is still loading. If this message persists, it\n",
       "  likely means that the widgets JavaScript library is either not installed or\n",
       "  not enabled. See the <a href=\"https://ipywidgets.readthedocs.io/en/stable/user_install.html\">Jupyter\n",
       "  Widgets Documentation</a> for setup instructions.\n",
       "</p>\n",
       "<p>\n",
       "  If you're reading this message in another frontend (for example, a static\n",
       "  rendering on GitHub or <a href=\"https://nbviewer.jupyter.org/\">NBViewer</a>),\n",
       "  it may mean that your frontend doesn't currently support widgets.\n",
       "</p>\n"
      ],
      "text/plain": [
       "HBox(children=(HBox(children=(Label(value=u'initialize kmeans++ centers'),), layout=Layout(max_width=u'35%', min_width=u'35%')), HBox(children=(IntProgress(value=0, max=50), HTML(value=u'')), layout=Layout(padding=u'0 0 0 20px'))), layout=Layout(display=u'flex', width=u'100%'))"
      ]
     },
     "metadata": {},
     "output_type": "display_data"
    },
    {
     "data": {
      "application/vnd.jupyter.widget-view+json": {
       "model_id": "2e8af5ad5bf247b49d7a6c7b1269347b",
       "version_major": 2,
       "version_minor": 0
      },
      "text/html": [
       "<p>Failed to display Jupyter Widget of type <code>HBox</code>.</p>\n",
       "<p>\n",
       "  If you're reading this message in the Jupyter Notebook or JupyterLab Notebook, it may mean\n",
       "  that the widgets JavaScript is still loading. If this message persists, it\n",
       "  likely means that the widgets JavaScript library is either not installed or\n",
       "  not enabled. See the <a href=\"https://ipywidgets.readthedocs.io/en/stable/user_install.html\">Jupyter\n",
       "  Widgets Documentation</a> for setup instructions.\n",
       "</p>\n",
       "<p>\n",
       "  If you're reading this message in another frontend (for example, a static\n",
       "  rendering on GitHub or <a href=\"https://nbviewer.jupyter.org/\">NBViewer</a>),\n",
       "  it may mean that your frontend doesn't currently support widgets.\n",
       "</p>\n"
      ],
      "text/plain": [
       "HBox(children=(HBox(children=(Label(value=u'kmeans iterations'),), layout=Layout(max_width=u'35%', min_width=u'35%')), HBox(children=(IntProgress(value=0, max=50), HTML(value=u'')), layout=Layout(padding=u'0 0 0 20px'))), layout=Layout(display=u'flex', width=u'100%'))"
      ]
     },
     "metadata": {},
     "output_type": "display_data"
    },
    {
     "name": "stdout",
     "output_type": "stream",
     "text": [
      "31-05-18 11:39:04 pyemma.coordinates.clustering.kmeans.KmeansClustering[14] INFO     Cluster centers converged after 11 steps.\n"
     ]
    },
    {
     "data": {
      "application/vnd.jupyter.widget-view+json": {
       "model_id": "c4df452bdff24f32b11ed8f86c91401d",
       "version_major": 2,
       "version_minor": 0
      },
      "text/html": [
       "<p>Failed to display Jupyter Widget of type <code>HBox</code>.</p>\n",
       "<p>\n",
       "  If you're reading this message in the Jupyter Notebook or JupyterLab Notebook, it may mean\n",
       "  that the widgets JavaScript is still loading. If this message persists, it\n",
       "  likely means that the widgets JavaScript library is either not installed or\n",
       "  not enabled. See the <a href=\"https://ipywidgets.readthedocs.io/en/stable/user_install.html\">Jupyter\n",
       "  Widgets Documentation</a> for setup instructions.\n",
       "</p>\n",
       "<p>\n",
       "  If you're reading this message in another frontend (for example, a static\n",
       "  rendering on GitHub or <a href=\"https://nbviewer.jupyter.org/\">NBViewer</a>),\n",
       "  it may mean that your frontend doesn't currently support widgets.\n",
       "</p>\n"
      ],
      "text/plain": [
       "HBox(children=(HBox(children=(Label(value=u'getting output of KmeansClustering'),), layout=Layout(max_width=u'35%', min_width=u'35%')), HBox(children=(IntProgress(value=0, max=80), HTML(value=u'')), layout=Layout(padding=u'0 0 0 20px'))), layout=Layout(display=u'flex', width=u'100%'))"
      ]
     },
     "metadata": {},
     "output_type": "display_data"
    },
    {
     "data": {
      "application/vnd.jupyter.widget-view+json": {
       "model_id": "529fe481f16f4e59ac4479a427d51a62",
       "version_major": 2,
       "version_minor": 0
      },
      "text/html": [
       "<p>Failed to display Jupyter Widget of type <code>HBox</code>.</p>\n",
       "<p>\n",
       "  If you're reading this message in the Jupyter Notebook or JupyterLab Notebook, it may mean\n",
       "  that the widgets JavaScript is still loading. If this message persists, it\n",
       "  likely means that the widgets JavaScript library is either not installed or\n",
       "  not enabled. See the <a href=\"https://ipywidgets.readthedocs.io/en/stable/user_install.html\">Jupyter\n",
       "  Widgets Documentation</a> for setup instructions.\n",
       "</p>\n",
       "<p>\n",
       "  If you're reading this message in another frontend (for example, a static\n",
       "  rendering on GitHub or <a href=\"https://nbviewer.jupyter.org/\">NBViewer</a>),\n",
       "  it may mean that your frontend doesn't currently support widgets.\n",
       "</p>\n"
      ],
      "text/plain": [
       "HBox(children=(HBox(children=(Label(value=u'initialize kmeans++ centers'),), layout=Layout(max_width=u'35%', min_width=u'35%')), HBox(children=(IntProgress(value=0), HTML(value=u'')), layout=Layout(padding=u'0 0 0 20px'))), layout=Layout(display=u'flex', width=u'100%'))"
      ]
     },
     "metadata": {},
     "output_type": "display_data"
    },
    {
     "data": {
      "application/vnd.jupyter.widget-view+json": {
       "model_id": "b0e68359bbef4be38ebd0d1ad003462d",
       "version_major": 2,
       "version_minor": 0
      },
      "text/html": [
       "<p>Failed to display Jupyter Widget of type <code>HBox</code>.</p>\n",
       "<p>\n",
       "  If you're reading this message in the Jupyter Notebook or JupyterLab Notebook, it may mean\n",
       "  that the widgets JavaScript is still loading. If this message persists, it\n",
       "  likely means that the widgets JavaScript library is either not installed or\n",
       "  not enabled. See the <a href=\"https://ipywidgets.readthedocs.io/en/stable/user_install.html\">Jupyter\n",
       "  Widgets Documentation</a> for setup instructions.\n",
       "</p>\n",
       "<p>\n",
       "  If you're reading this message in another frontend (for example, a static\n",
       "  rendering on GitHub or <a href=\"https://nbviewer.jupyter.org/\">NBViewer</a>),\n",
       "  it may mean that your frontend doesn't currently support widgets.\n",
       "</p>\n"
      ],
      "text/plain": [
       "HBox(children=(HBox(children=(Label(value=u'kmeans iterations'),), layout=Layout(max_width=u'35%', min_width=u'35%')), HBox(children=(IntProgress(value=0, max=50), HTML(value=u'')), layout=Layout(padding=u'0 0 0 20px'))), layout=Layout(display=u'flex', width=u'100%'))"
      ]
     },
     "metadata": {},
     "output_type": "display_data"
    },
    {
     "name": "stdout",
     "output_type": "stream",
     "text": [
      "31-05-18 11:52:44 pyemma.coordinates.clustering.kmeans.KmeansClustering[16] INFO     Cluster centers converged after 14 steps.\n"
     ]
    },
    {
     "data": {
      "application/vnd.jupyter.widget-view+json": {
       "model_id": "bd3ad78b67c9436ab335a816dc94deca",
       "version_major": 2,
       "version_minor": 0
      },
      "text/html": [
       "<p>Failed to display Jupyter Widget of type <code>HBox</code>.</p>\n",
       "<p>\n",
       "  If you're reading this message in the Jupyter Notebook or JupyterLab Notebook, it may mean\n",
       "  that the widgets JavaScript is still loading. If this message persists, it\n",
       "  likely means that the widgets JavaScript library is either not installed or\n",
       "  not enabled. See the <a href=\"https://ipywidgets.readthedocs.io/en/stable/user_install.html\">Jupyter\n",
       "  Widgets Documentation</a> for setup instructions.\n",
       "</p>\n",
       "<p>\n",
       "  If you're reading this message in another frontend (for example, a static\n",
       "  rendering on GitHub or <a href=\"https://nbviewer.jupyter.org/\">NBViewer</a>),\n",
       "  it may mean that your frontend doesn't currently support widgets.\n",
       "</p>\n"
      ],
      "text/plain": [
       "HBox(children=(HBox(children=(Label(value=u'getting output of KmeansClustering'),), layout=Layout(max_width=u'35%', min_width=u'35%')), HBox(children=(IntProgress(value=0, max=80), HTML(value=u'')), layout=Layout(padding=u'0 0 0 20px'))), layout=Layout(display=u'flex', width=u'100%'))"
      ]
     },
     "metadata": {},
     "output_type": "display_data"
    },
    {
     "data": {
      "application/vnd.jupyter.widget-view+json": {
       "model_id": "237c28be480441159e9b01e73f6e55cb",
       "version_major": 2,
       "version_minor": 0
      },
      "text/html": [
       "<p>Failed to display Jupyter Widget of type <code>HBox</code>.</p>\n",
       "<p>\n",
       "  If you're reading this message in the Jupyter Notebook or JupyterLab Notebook, it may mean\n",
       "  that the widgets JavaScript is still loading. If this message persists, it\n",
       "  likely means that the widgets JavaScript library is either not installed or\n",
       "  not enabled. See the <a href=\"https://ipywidgets.readthedocs.io/en/stable/user_install.html\">Jupyter\n",
       "  Widgets Documentation</a> for setup instructions.\n",
       "</p>\n",
       "<p>\n",
       "  If you're reading this message in another frontend (for example, a static\n",
       "  rendering on GitHub or <a href=\"https://nbviewer.jupyter.org/\">NBViewer</a>),\n",
       "  it may mean that your frontend doesn't currently support widgets.\n",
       "</p>\n"
      ],
      "text/plain": [
       "HBox(children=(HBox(children=(Label(value=u'initialize kmeans++ centers'),), layout=Layout(max_width=u'35%', min_width=u'35%')), HBox(children=(IntProgress(value=0, max=200), HTML(value=u'')), layout=Layout(padding=u'0 0 0 20px'))), layout=Layout(display=u'flex', width=u'100%'))"
      ]
     },
     "metadata": {},
     "output_type": "display_data"
    },
    {
     "data": {
      "application/vnd.jupyter.widget-view+json": {
       "model_id": "a2315253256e40e3a08d6d2b5410bd7f",
       "version_major": 2,
       "version_minor": 0
      },
      "text/html": [
       "<p>Failed to display Jupyter Widget of type <code>HBox</code>.</p>\n",
       "<p>\n",
       "  If you're reading this message in the Jupyter Notebook or JupyterLab Notebook, it may mean\n",
       "  that the widgets JavaScript is still loading. If this message persists, it\n",
       "  likely means that the widgets JavaScript library is either not installed or\n",
       "  not enabled. See the <a href=\"https://ipywidgets.readthedocs.io/en/stable/user_install.html\">Jupyter\n",
       "  Widgets Documentation</a> for setup instructions.\n",
       "</p>\n",
       "<p>\n",
       "  If you're reading this message in another frontend (for example, a static\n",
       "  rendering on GitHub or <a href=\"https://nbviewer.jupyter.org/\">NBViewer</a>),\n",
       "  it may mean that your frontend doesn't currently support widgets.\n",
       "</p>\n"
      ],
      "text/plain": [
       "HBox(children=(HBox(children=(Label(value=u'kmeans iterations'),), layout=Layout(max_width=u'35%', min_width=u'35%')), HBox(children=(IntProgress(value=0, max=50), HTML(value=u'')), layout=Layout(padding=u'0 0 0 20px'))), layout=Layout(display=u'flex', width=u'100%'))"
      ]
     },
     "metadata": {},
     "output_type": "display_data"
    },
    {
     "name": "stdout",
     "output_type": "stream",
     "text": [
      "31-05-18 12:12:04 pyemma.coordinates.clustering.kmeans.KmeansClustering[18] INFO     Cluster centers converged after 3 steps.\n"
     ]
    },
    {
     "data": {
      "application/vnd.jupyter.widget-view+json": {
       "model_id": "306e40d9c4a54deabe0d7a31e7be3b0e",
       "version_major": 2,
       "version_minor": 0
      },
      "text/html": [
       "<p>Failed to display Jupyter Widget of type <code>HBox</code>.</p>\n",
       "<p>\n",
       "  If you're reading this message in the Jupyter Notebook or JupyterLab Notebook, it may mean\n",
       "  that the widgets JavaScript is still loading. If this message persists, it\n",
       "  likely means that the widgets JavaScript library is either not installed or\n",
       "  not enabled. See the <a href=\"https://ipywidgets.readthedocs.io/en/stable/user_install.html\">Jupyter\n",
       "  Widgets Documentation</a> for setup instructions.\n",
       "</p>\n",
       "<p>\n",
       "  If you're reading this message in another frontend (for example, a static\n",
       "  rendering on GitHub or <a href=\"https://nbviewer.jupyter.org/\">NBViewer</a>),\n",
       "  it may mean that your frontend doesn't currently support widgets.\n",
       "</p>\n"
      ],
      "text/plain": [
       "HBox(children=(HBox(children=(Label(value=u'getting output of KmeansClustering'),), layout=Layout(max_width=u'35%', min_width=u'35%')), HBox(children=(IntProgress(value=0, max=80), HTML(value=u'')), layout=Layout(padding=u'0 0 0 20px'))), layout=Layout(display=u'flex', width=u'100%'))"
      ]
     },
     "metadata": {},
     "output_type": "display_data"
    }
   ],
   "source": [
    "dtrajs_TICA=[]\n",
    "cluster_center=[]\n",
    "cl_dat= []\n",
    "for i in [50,100,200]:\n",
    "    cl = coor.cluster_kmeans(Y,k=i,max_iter=50)\n",
    "    \n",
    "    # for later use we save the discrete trajectories and cluster center coordinates:\n",
    "    dtrajs = cl.dtrajs\n",
    "    dtrajs_TICA.append(dtrajs)\n",
    "    cluster_center.append(cl.clustercenters)"
   ]
  },
  {
   "cell_type": "code",
   "execution_count": 29,
   "metadata": {},
   "outputs": [],
   "source": [
    "for i in range(3):\n",
    "    dtrajs_dat = dtrajs_TICA[i]\n",
    "    dtrajs_wt_tica = dtrajs_dat[0:20:1]\n",
    "    dtrajs_s99t_tica = dtrajs_dat[20:40:1]\n",
    "    dtrajs_s99tcs_tica = dtrajs_dat[40:60:1]\n",
    "    dtrajs_s99tcsiv_tica = dtrajs_dat[60:80:1]\n",
    "\n",
    "\n",
    "    for j in range(len(dtrajs_wt_tica)):\n",
    "        np.savetxt('TICA_'+str(i)+'/disctraj_WT_'+str(j)+'.dat',dtrajs_wt_tica[j] )\n",
    "    \n",
    "    for j in range(len(dtrajs_s99t_tica)):\n",
    "        np.savetxt('TICA_'+str(i)+'/disctraj_S99T_'+str(j)+'.dat', dtrajs_s99t_tica[j])\n",
    "    \n",
    "    for j in range(len(dtrajs_s99tcs_tica)):\n",
    "        np.savetxt('TICA_'+str(i)+'/disctraj_S99TCS_'+str(j)+'.dat', dtrajs_s99tcs_tica[j])\n",
    "    \n",
    "    for j in range(len(dtrajs_s99tcsiv_tica)):\n",
    "        np.savetxt('TICA_'+str(i)+'/disctraj_S99TCSIV_'+str(j)+'.dat', dtrajs_s99tcsiv_tica[j])\n",
    "        \n",
    "        #saving cluster centres\n",
    "    np.savetxt('TICA_'+str(i)+'/cluster_centre.dat', cluster_center[i])"
   ]
  },
  {
   "cell_type": "code",
   "execution_count": null,
   "metadata": {
    "collapsed": true
   },
   "outputs": [],
   "source": []
  }
 ],
 "metadata": {
  "anaconda-cloud": {},
  "kernelspec": {
   "display_name": "Python 3",
   "language": "python",
   "name": "python3"
  },
  "language_info": {
   "codemirror_mode": {
    "name": "ipython",
    "version": 3
   },
   "file_extension": ".py",
   "mimetype": "text/x-python",
   "name": "python",
   "nbconvert_exporter": "python",
   "pygments_lexer": "ipython3",
   "version": "3.6.4"
  }
 },
 "nbformat": 4,
 "nbformat_minor": 1
}
